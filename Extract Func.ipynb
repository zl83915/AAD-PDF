{
 "cells": [
  {
   "cell_type": "code",
   "execution_count": 1,
   "metadata": {},
   "outputs": [
    {
     "name": "stdout",
     "output_type": "stream",
     "text": [
      "Requirement already satisfied: PyPDF2 in /srv/conda/lib/python3.6/site-packages\n",
      "\u001b[33mYou are using pip version 9.0.3, however version 18.0 is available.\n",
      "You should consider upgrading via the 'pip install --upgrade pip' command.\u001b[0m\n",
      "Requirement already satisfied: Pandas in /srv/conda/lib/python3.6/site-packages\n",
      "Requirement already satisfied: numpy>=1.9.0 in /srv/conda/lib/python3.6/site-packages (from Pandas)\n",
      "Requirement already satisfied: python-dateutil>=2.5.0 in /srv/conda/lib/python3.6/site-packages (from Pandas)\n",
      "Requirement already satisfied: pytz>=2011k in /srv/conda/lib/python3.6/site-packages (from Pandas)\n",
      "Requirement already satisfied: six>=1.5 in /srv/conda/lib/python3.6/site-packages (from python-dateutil>=2.5.0->Pandas)\n",
      "\u001b[33mYou are using pip version 9.0.3, however version 18.0 is available.\n",
      "You should consider upgrading via the 'pip install --upgrade pip' command.\u001b[0m\n"
     ]
    }
   ],
   "source": [
    "import sys\n",
    "!{sys.executable} -m pip install PyPDF2\n",
    "!{sys.executable} -m pip install Pandas\n",
    "import PyPDF2\n",
    "import pandas as pd\n",
    "import re\n",
    "import glob"
   ]
  },
  {
   "cell_type": "code",
   "execution_count": 35,
   "metadata": {},
   "outputs": [],
   "source": [
    "data = {}\n",
    "df = pd.DataFrame()\n",
    "\n",
    "def extract_info(file):\n",
    "    main_pdf = PyPDF2.PdfFileReader(file, 'rb')\n",
    "    main_str = str()\n",
    "\n",
    "    # decrypt pdf with \"\" as password\n",
    "    if main_pdf.isEncrypted:\n",
    "        main_pdf.decrypt(\"\")\n",
    "\n",
    "    for pages in range(main_pdf.getNumPages()):\n",
    "        p = main_pdf.getPage(pages)\n",
    "        p_text= p.extractText()\n",
    "        p_lines=str(p_text.splitlines())\n",
    "        if pages == 0:\n",
    "            main_str += p_lines\n",
    "        else:\n",
    "            main_str += \" \\n \"\n",
    "            main_str += p_lines\n",
    "            \n",
    "    main_str.replace(\" \", \"\")\n",
    "    \n",
    "    # Create dictionary to convert to dataframe later\n",
    "    data = {\n",
    "        # Change names if ASX changes their format\n",
    "        'Entity Name' : (main_str.split(\"Entity name\")[-1].split(\"Security on which the Distribution\")[0]),\n",
    "        'Ticker' : (main_str.split(\"Security on which the Distribution will be paid\")[-1])[:3],\n",
    "        'Record Date' : (main_str.split(\"2A.4 +Record Date\")[-1].split(\"2A.5 Ex Date\")[0]),\n",
    "        'Ex Date' : (main_str.split(\"2A.5 Ex Date\")[-1].split(\"2A.6 Payment Date\")[0]),\n",
    "        'Payment Date' : (main_str.split(\"2A.6 Payment Date\")[-1].split(\"2A.7 Are any of the\")[0]),\n",
    "        'Ex Date' : (main_str.split(\"2A.5 Ex Date\")[-1].split(\"2A.6 Payment Date\")[0]),\n",
    "        'Primary Currency' : (main_str.split(\"Currency in which the dividend/distribution is made\")[-1][21:25]),\n",
    "        'Dividend per Share' : (main_str.split(\"notified in this form\")[-1][4:14]),\n",
    "        \"Dividend per Share Status\" : \"WILL UPDATE BELOWWWWW\",\n",
    "        \"Franked Amount\" : (main_str.split(\"3A.5\")[0])[-10:],\n",
    "        \"Unfranked Amount\" : (main_str.split(\"foreignincome amount\")[-1])[4:14]\n",
    "           }\n",
    "\n",
    "    # update with whether dividends per share is actual or estimated\n",
    "    if (main_str.split(\"estimated at this time?\")[-1][:1]) == \"Y\":\n",
    "        data.update({\"Dividend per Share Status\" : \"Estimated\"})\n",
    "    else:\n",
    "        data.update({\"Dividend per Share Status\" : \"Actual\"})\n",
    "\n",
    "    # Sanity check on dividends\n",
    "    if (data[\"Dividend per Share Status\"]) == \"Estimated\":\n",
    "        if (main_str.split(\"3A.1a(i)\")[0])[-10:] == data[\"Dividend per Share\"]:\n",
    "            pass\n",
    "        else:\n",
    "            data.update({\"Dividend per Share\" : \"ERROR GO FIND IT YOSELF\"})\n",
    "    else:\n",
    "        if (main_str.split(\"3A.2\")[0])[-10:] == data[\"Dividend per Share\"]:\n",
    "            pass\n",
    "        else:\n",
    "            data.update({\"Dividend per Share\" : \"ERROR GO FIND IT YOSELF\"})    \n",
    "            \n",
    "    temp = pd.DataFrame.from_dict(data, orient='index', columns = [\"\"]) \n",
    "    return temp\n"
   ]
  },
  {
   "cell_type": "code",
   "execution_count": 36,
   "metadata": {},
   "outputs": [],
   "source": [
    "for file in glob.glob(\"*.pdf\"):\n",
    "    df = pd.concat([df, extract_info(file)],axis=1, sort=False)\n",
    "    df.to_csv('output.csv')"
   ]
  }
 ],
 "metadata": {
  "kernelspec": {
   "display_name": "Python 3",
   "language": "python",
   "name": "python3"
  },
  "language_info": {
   "codemirror_mode": {
    "name": "ipython",
    "version": 3
   },
   "file_extension": ".py",
   "mimetype": "text/x-python",
   "name": "python",
   "nbconvert_exporter": "python",
   "pygments_lexer": "ipython3",
   "version": "3.6.5"
  }
 },
 "nbformat": 4,
 "nbformat_minor": 2
}
