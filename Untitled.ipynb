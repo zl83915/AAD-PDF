{
 "cells": [
  {
   "cell_type": "code",
   "execution_count": 1,
   "metadata": {},
   "outputs": [
    {
     "name": "stdout",
     "output_type": "stream",
     "text": [
      "Collecting PyPDF2\n",
      "  Downloading https://files.pythonhosted.org/packages/b4/01/68fcc0d43daf4c6bdbc6b33cc3f77bda531c86b174cac56ef0ffdb96faab/PyPDF2-1.26.0.tar.gz (77kB)\n",
      "\u001b[K    100% |████████████████████████████████| 81kB 1.8MB/s ta 0:00:011\n",
      "\u001b[?25hBuilding wheels for collected packages: PyPDF2\n",
      "  Running setup.py bdist_wheel for PyPDF2 ... \u001b[?25ldone\n",
      "\u001b[?25h  Stored in directory: /home/jovyan/.cache/pip/wheels/53/84/19/35bc977c8bf5f0c23a8a011aa958acd4da4bbd7a229315c1b7\n",
      "Successfully built PyPDF2\n",
      "Installing collected packages: PyPDF2\n",
      "Successfully installed PyPDF2-1.26.0\n",
      "\u001b[33mYou are using pip version 9.0.3, however version 18.0 is available.\n",
      "You should consider upgrading via the 'pip install --upgrade pip' command.\u001b[0m\n",
      "Collecting Pandas\n",
      "  Downloading https://files.pythonhosted.org/packages/e1/d8/feeb346d41f181e83fba45224ab14a8d8af019b48af742e047f3845d8cff/pandas-0.23.4-cp36-cp36m-manylinux1_x86_64.whl (8.9MB)\n",
      "\u001b[K    100% |████████████████████████████████| 8.9MB 69kB/s  eta 0:00:01\n",
      "\u001b[?25hRequirement already satisfied: python-dateutil>=2.5.0 in /srv/conda/lib/python3.6/site-packages (from Pandas)\n",
      "Collecting numpy>=1.9.0 (from Pandas)\n",
      "  Downloading https://files.pythonhosted.org/packages/fe/94/7049fed8373c52839c8cde619acaf2c9b83082b935e5aa8c0fa27a4a8bcc/numpy-1.15.1-cp36-cp36m-manylinux1_x86_64.whl (13.9MB)\n",
      "\u001b[K    100% |████████████████████████████████| 13.9MB 44kB/s  eta 0:00:01\n",
      "\u001b[?25hCollecting pytz>=2011k (from Pandas)\n",
      "  Downloading https://files.pythonhosted.org/packages/30/4e/27c34b62430286c6d59177a0842ed90dc789ce5d1ed740887653b898779a/pytz-2018.5-py2.py3-none-any.whl (510kB)\n",
      "\u001b[K    100% |████████████████████████████████| 512kB 1.4MB/s eta 0:00:01\n",
      "\u001b[?25hRequirement already satisfied: six>=1.5 in /srv/conda/lib/python3.6/site-packages (from python-dateutil>=2.5.0->Pandas)\n",
      "Installing collected packages: numpy, pytz, Pandas\n",
      "Successfully installed Pandas-0.23.4 numpy-1.15.1 pytz-2018.5\n",
      "\u001b[33mYou are using pip version 9.0.3, however version 18.0 is available.\n",
      "You should consider upgrading via the 'pip install --upgrade pip' command.\u001b[0m\n"
     ]
    }
   ],
   "source": [
    "import sys\n",
    "!{sys.executable} -m pip install PyPDF2\n",
    "!{sys.executable} -m pip install Pandas\n",
    "import PyPDF2\n",
    "import pandas as pd\n",
    "import re"
   ]
  },
  {
   "cell_type": "code",
   "execution_count": 57,
   "metadata": {},
   "outputs": [],
   "source": [
    "main_pdf = PyPDF2.PdfFileReader('aad.pdf', 'rb')\n",
    "main_str = str()\n",
    "\n",
    "# decrypt pdf with \"\" as password\n",
    "if main_pdf.isEncrypted:\n",
    "    main_pdf.decrypt(\"\")\n",
    " \n",
    "for pages in range(main_pdf.getNumPages()):\n",
    "    p = main_pdf.getPage(pages)\n",
    "    p_text= p.extractText()\n",
    "    p_lines=str(p_text.splitlines())\n",
    "    main_str += p_lines"
   ]
  },
  {
   "cell_type": "code",
   "execution_count": 74,
   "metadata": {},
   "outputs": [],
   "source": [
    "# Create dictionary to convert to dataframe later\n",
    "data = {\n",
    "    # Change names if ASX changes their format\n",
    "    'Entity Name' : (main_str.split(\"Entity name\")[-1].split(\"Security on which the Distribution\")[0]),\n",
    "    'Ticker' : (main_str.split(\"Security on which the Distribution will be paid\")[-1])[:3],\n",
    "    'Record Date' : (main_str.split(\"2A.4 +Record Date\")[-1].split(\"2A.5 Ex Date\")[0]),\n",
    "    'Ex Date' : (main_str.split(\"2A.5 Ex Date\")[-1].split(\"2A.6 Payment Date\")[0]),\n",
    "    'Payment Date' : (main_str.split(\"2A.6 Payment Date\")[-1].split(\"2A.7 Are any of the\")[0]),\n",
    "    'Ex Date' : (main_str.split(\"2A.5 Ex Date\")[-1].split(\"2A.6 Payment Date\")[0]),\n",
    "    'Primary Currency' : (main_str.split(\"Currency in which the dividend/distribution is made\")[-1][21:25]),\n",
    "    'Primary Currency' : (main_str.split(\"Currency in which the dividend/distribution is made\")[-1][21:25]),\n",
    "       }\n",
    "\n",
    "df = pd.DataFrame.from_dict(data, orient='index', columns = [\"\"])"
   ]
  },
  {
   "cell_type": "code",
   "execution_count": 75,
   "metadata": {},
   "outputs": [
    {
     "data": {
      "text/html": [
       "<div>\n",
       "<style scoped>\n",
       "    .dataframe tbody tr th:only-of-type {\n",
       "        vertical-align: middle;\n",
       "    }\n",
       "\n",
       "    .dataframe tbody tr th {\n",
       "        vertical-align: top;\n",
       "    }\n",
       "\n",
       "    .dataframe thead th {\n",
       "        text-align: right;\n",
       "    }\n",
       "</style>\n",
       "<table border=\"1\" class=\"dataframe\">\n",
       "  <thead>\n",
       "    <tr style=\"text-align: right;\">\n",
       "      <th></th>\n",
       "      <th></th>\n",
       "    </tr>\n",
       "  </thead>\n",
       "  <tbody>\n",
       "    <tr>\n",
       "      <th>Entity Name</th>\n",
       "      <td>ARDENT LEISURE GROUP</td>\n",
       "    </tr>\n",
       "    <tr>\n",
       "      <th>Ticker</th>\n",
       "      <td>AAD</td>\n",
       "    </tr>\n",
       "    <tr>\n",
       "      <th>Record Date</th>\n",
       "      <td>Tuesday June 26, 2018</td>\n",
       "    </tr>\n",
       "    <tr>\n",
       "      <th>Ex Date</th>\n",
       "      <td>Monday June 25, 2018</td>\n",
       "    </tr>\n",
       "    <tr>\n",
       "      <th>Payment Date</th>\n",
       "      <td>Friday August 31, 2018</td>\n",
       "    </tr>\n",
       "    <tr>\n",
       "      <th>Primary Currency</th>\n",
       "      <td>AUD</td>\n",
       "    </tr>\n",
       "  </tbody>\n",
       "</table>\n",
       "</div>"
      ],
      "text/plain": [
       "                                        \n",
       "Entity Name         ARDENT LEISURE GROUP\n",
       "Ticker                               AAD\n",
       "Record Date        Tuesday June 26, 2018\n",
       "Ex Date             Monday June 25, 2018\n",
       "Payment Date      Friday August 31, 2018\n",
       "Primary Currency                    AUD "
      ]
     },
     "execution_count": 75,
     "metadata": {},
     "output_type": "execute_result"
    }
   ],
   "source": [
    "df"
   ]
  },
  {
   "cell_type": "code",
   "execution_count": 53,
   "metadata": {},
   "outputs": [
    {
     "data": {
      "text/plain": [
       "5"
      ]
     },
     "execution_count": 53,
     "metadata": {},
     "output_type": "execute_result"
    }
   ],
   "source": [
    "main_pdf.getNumPages()"
   ]
  },
  {
   "cell_type": "code",
   "execution_count": 55,
   "metadata": {},
   "outputs": [
    {
     "name": "stdout",
     "output_type": "stream",
     "text": [
      "0\n",
      "1\n",
      "2\n",
      "3\n",
      "4\n"
     ]
    }
   ],
   "source": [
    "for pages in range(5):\n",
    "    print(pages)"
   ]
  },
  {
   "cell_type": "code",
   "execution_count": 52,
   "metadata": {},
   "outputs": [
    {
     "name": "stdout",
     "output_type": "stream",
     "text": [
      "<_io.BufferedReader name='sample.txt'>\n"
     ]
    }
   ],
   "source": []
  }
 ],
 "metadata": {
  "kernelspec": {
   "display_name": "Python 3",
   "language": "python",
   "name": "python3"
  },
  "language_info": {
   "codemirror_mode": {
    "name": "ipython",
    "version": 3
   },
   "file_extension": ".py",
   "mimetype": "text/x-python",
   "name": "python",
   "nbconvert_exporter": "python",
   "pygments_lexer": "ipython3",
   "version": "3.6.5"
  }
 },
 "nbformat": 4,
 "nbformat_minor": 2
}
